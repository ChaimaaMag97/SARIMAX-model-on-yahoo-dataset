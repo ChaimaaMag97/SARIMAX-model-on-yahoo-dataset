{
 "cells": [
  {
   "cell_type": "code",
   "execution_count": 1,
   "metadata": {},
   "outputs": [],
   "source": [
    "import pandas as pd\n",
    "import seaborn as sns\n",
    "import matplotlib.pyplot as plt\n",
    "%matplotlib inline"
   ]
  },
  {
   "cell_type": "code",
   "execution_count": 2,
   "metadata": {},
   "outputs": [],
   "source": [
    "datin=pd.read_csv(\"C:/Users/pc/Documents/03 Introduction to Time Series in Python/013 IndexE8.csv\")"
   ]
  },
  {
   "cell_type": "code",
   "execution_count": 3,
   "metadata": {},
   "outputs": [],
   "source": [
    "datin.date=pd.to_datetime(datin.date,dayfirst=True)\n",
    "datin.set_index(\"date\",inplace=True)"
   ]
  },
  {
   "cell_type": "code",
   "execution_count": 4,
   "metadata": {},
   "outputs": [],
   "source": [
    "import statsmodels.tsa.stattools as sts\n",
    "import statsmodels.graphics.tsaplots as sgt"
   ]
  },
  {
   "cell_type": "code",
   "execution_count": 5,
   "metadata": {},
   "outputs": [],
   "source": [
    "df_comp=datin.copy()\n",
    "df_comp.index=pd.to_datetime(df_comp.index,dayfirst=True)\n",
    "df_comp=df_comp.asfreq('b')\n",
    "df_comp=df_comp.fillna(method=\"ffill\")"
   ]
  },
  {
   "cell_type": "code",
   "execution_count": 6,
   "metadata": {},
   "outputs": [],
   "source": [
    "df_comp['market_value']=df_comp.ftse\n",
    "df_comp['returns_FTSE']=df_comp.ftse.pct_change(1).mul(100)"
   ]
  },
  {
   "cell_type": "code",
   "execution_count": 7,
   "metadata": {},
   "outputs": [],
   "source": [
    "from  statsmodels.tsa.arima_model import ARIMA"
   ]
  },
  {
   "cell_type": "code",
   "execution_count": 8,
   "metadata": {},
   "outputs": [],
   "source": [
    "from scipy.stats.distributions import chi2"
   ]
  },
  {
   "cell_type": "code",
   "execution_count": 10,
   "metadata": {},
   "outputs": [
    {
     "name": "stderr",
     "output_type": "stream",
     "text": [
      "C:\\ana\\envs\\effyis2\\lib\\site-packages\\statsmodels\\base\\model.py:568: ConvergenceWarning: Maximum Likelihood optimization failed to converge. Check mle_retvals\n",
      "  \"Check mle_retvals\", ConvergenceWarning)\n"
     ]
    },
    {
     "data": {
      "text/html": [
       "<table class=\"simpletable\">\n",
       "<caption>ARIMA Model Results</caption>\n",
       "<tr>\n",
       "  <th>Dep. Variable:</th>  <td>D.returns_FTSE</td>  <th>  No. Observations:  </th>   <td>6275</td>   \n",
       "</tr>\n",
       "<tr>\n",
       "  <th>Model:</th>          <td>ARIMA(1, 1, 1)</td>  <th>  Log Likelihood     </th> <td>-9601.059</td>\n",
       "</tr>\n",
       "<tr>\n",
       "  <th>Method:</th>             <td>css-mle</td>     <th>  S.D. of innovations</th>   <td>1.117</td>  \n",
       "</tr>\n",
       "<tr>\n",
       "  <th>Date:</th>          <td>Thu, 10 Sep 2020</td> <th>  AIC                </th> <td>19210.118</td>\n",
       "</tr>\n",
       "<tr>\n",
       "  <th>Time:</th>              <td>23:43:07</td>     <th>  BIC                </th> <td>19237.096</td>\n",
       "</tr>\n",
       "<tr>\n",
       "  <th>Sample:</th>           <td>01-11-1994</td>    <th>  HQIC               </th> <td>19219.466</td>\n",
       "</tr>\n",
       "<tr>\n",
       "  <th></th>                 <td>- 01-29-2018</td>   <th>                     </th>     <td> </td>    \n",
       "</tr>\n",
       "</table>\n",
       "<table class=\"simpletable\">\n",
       "<tr>\n",
       "            <td></td>              <th>coef</th>     <th>std err</th>      <th>z</th>      <th>P>|z|</th>  <th>[0.025</th>    <th>0.975]</th>  \n",
       "</tr>\n",
       "<tr>\n",
       "  <th>const</th>                <td>-8.314e-07</td> <td> 7.65e-06</td> <td>   -0.109</td> <td> 0.913</td> <td>-1.58e-05</td> <td> 1.42e-05</td>\n",
       "</tr>\n",
       "<tr>\n",
       "  <th>ar.L1.D.returns_FTSE</th> <td>   -0.0174</td> <td>    0.013</td> <td>   -1.380</td> <td> 0.167</td> <td>   -0.042</td> <td>    0.007</td>\n",
       "</tr>\n",
       "<tr>\n",
       "  <th>ma.L1.D.returns_FTSE</th> <td>   -1.0000</td> <td>    0.000</td> <td>-2265.918</td> <td> 0.000</td> <td>   -1.001</td> <td>   -0.999</td>\n",
       "</tr>\n",
       "</table>\n",
       "<table class=\"simpletable\">\n",
       "<caption>Roots</caption>\n",
       "<tr>\n",
       "    <td></td>   <th>            Real</th>  <th>         Imaginary</th> <th>         Modulus</th>  <th>        Frequency</th>\n",
       "</tr>\n",
       "<tr>\n",
       "  <th>AR.1</th> <td>         -57.3961</td> <td>          +0.0000j</td> <td>          57.3961</td> <td>           0.5000</td>\n",
       "</tr>\n",
       "<tr>\n",
       "  <th>MA.1</th> <td>           1.0000</td> <td>          +0.0000j</td> <td>           1.0000</td> <td>           0.0000</td>\n",
       "</tr>\n",
       "</table>"
      ],
      "text/plain": [
       "<class 'statsmodels.iolib.summary.Summary'>\n",
       "\"\"\"\n",
       "                             ARIMA Model Results                              \n",
       "==============================================================================\n",
       "Dep. Variable:         D.returns_FTSE   No. Observations:                 6275\n",
       "Model:                 ARIMA(1, 1, 1)   Log Likelihood               -9601.059\n",
       "Method:                       css-mle   S.D. of innovations              1.117\n",
       "Date:                Thu, 10 Sep 2020   AIC                          19210.118\n",
       "Time:                        23:43:07   BIC                          19237.096\n",
       "Sample:                    01-11-1994   HQIC                         19219.466\n",
       "                         - 01-29-2018                                         \n",
       "========================================================================================\n",
       "                           coef    std err          z      P>|z|      [0.025      0.975]\n",
       "----------------------------------------------------------------------------------------\n",
       "const                -8.314e-07   7.65e-06     -0.109      0.913   -1.58e-05    1.42e-05\n",
       "ar.L1.D.returns_FTSE    -0.0174      0.013     -1.380      0.167      -0.042       0.007\n",
       "ma.L1.D.returns_FTSE    -1.0000      0.000  -2265.918      0.000      -1.001      -0.999\n",
       "                                    Roots                                    \n",
       "=============================================================================\n",
       "                  Real          Imaginary           Modulus         Frequency\n",
       "-----------------------------------------------------------------------------\n",
       "AR.1          -57.3961           +0.0000j           57.3961            0.5000\n",
       "MA.1            1.0000           +0.0000j            1.0000            0.0000\n",
       "-----------------------------------------------------------------------------\n",
       "\"\"\""
      ]
     },
     "execution_count": 10,
     "metadata": {},
     "output_type": "execute_result"
    }
   ],
   "source": [
    "#ARIMA(1,1,1)\n",
    "model_ar_1_i_ma_1=ARIMA(df_comp.returns_FTSE[1:],order=(1,1,1))\n",
    "result_ar_1_i_ma_1=model_ar_1_i_ma_1.fit()\n",
    "result_ar_1_i_ma_1.summary()"
   ]
  },
  {
   "cell_type": "code",
   "execution_count": 13,
   "metadata": {},
   "outputs": [
    {
     "data": {
      "image/png": "[encoded data removed]",
      "text/plain": [
       "<Figure size 432x288 with 1 Axes>"
      ]
     },
     "metadata": {
      "needs_background": "light"
     },
     "output_type": "display_data"
    }
   ],
   "source": [
    "#residuals of the arima(1,1,1)\n",
    "df_comp['result_ar_1_i_ma_1']=result_ar_1_i_ma_1.resid\n",
    "sgt.plot_acf(df_comp.result_ar_1_i_ma_1[2:],lags=25,zero=False)\n",
    "plt.title('ACF of FTSE RETURNS', size=20)\n",
    "plt.show()"
   ]
  },
  {
   "cell_type": "code",
   "execution_count": 14,
   "metadata": {},
   "outputs": [
    {
     "data": {
      "text/html": [
       "<div>\n",
       "<style scoped>\n",
       "    .dataframe tbody tr th:only-of-type {\n",
       "        vertical-align: middle;\n",
       "    }\n",
       "\n",
       "    .dataframe tbody tr th {\n",
       "        vertical-align: top;\n",
       "    }\n",
       "\n",
       "    .dataframe thead th {\n",
       "        text-align: right;\n",
       "    }\n",
       "</style>\n",
       "<table border=\"1\" class=\"dataframe\">\n",
       "  <thead>\n",
       "    <tr style=\"text-align: right;\">\n",
       "      <th></th>\n",
       "      <th>spx</th>\n",
       "      <th>dax</th>\n",
       "      <th>ftse</th>\n",
       "      <th>nikkei</th>\n",
       "      <th>market_value</th>\n",
       "      <th>returns_FTSE</th>\n",
       "      <th>result_ar_1_i_ma_1</th>\n",
       "    </tr>\n",
       "    <tr>\n",
       "      <th>date</th>\n",
       "      <th></th>\n",
       "      <th></th>\n",
       "      <th></th>\n",
       "      <th></th>\n",
       "      <th></th>\n",
       "      <th></th>\n",
       "      <th></th>\n",
       "    </tr>\n",
       "  </thead>\n",
       "  <tbody>\n",
       "    <tr>\n",
       "      <th>1994-01-07</th>\n",
       "      <td>469.900000</td>\n",
       "      <td>2224.95</td>\n",
       "      <td>3445.980000</td>\n",
       "      <td>18124.01</td>\n",
       "      <td>3445.980000</td>\n",
       "      <td>NaN</td>\n",
       "      <td>NaN</td>\n",
       "    </tr>\n",
       "    <tr>\n",
       "      <th>1994-01-10</th>\n",
       "      <td>475.270000</td>\n",
       "      <td>2225.00</td>\n",
       "      <td>3440.580000</td>\n",
       "      <td>18443.44</td>\n",
       "      <td>3440.580000</td>\n",
       "      <td>-0.156704</td>\n",
       "      <td>NaN</td>\n",
       "    </tr>\n",
       "    <tr>\n",
       "      <th>1994-01-11</th>\n",
       "      <td>474.130000</td>\n",
       "      <td>2228.10</td>\n",
       "      <td>3413.770000</td>\n",
       "      <td>18485.25</td>\n",
       "      <td>3413.770000</td>\n",
       "      <td>-0.779229</td>\n",
       "      <td>-0.622524</td>\n",
       "    </tr>\n",
       "    <tr>\n",
       "      <th>1994-01-12</th>\n",
       "      <td>474.170000</td>\n",
       "      <td>2182.06</td>\n",
       "      <td>3372.020000</td>\n",
       "      <td>18793.88</td>\n",
       "      <td>3372.020000</td>\n",
       "      <td>-1.222988</td>\n",
       "      <td>-0.760443</td>\n",
       "    </tr>\n",
       "    <tr>\n",
       "      <th>1994-01-13</th>\n",
       "      <td>472.470000</td>\n",
       "      <td>2142.37</td>\n",
       "      <td>3360.010000</td>\n",
       "      <td>18577.26</td>\n",
       "      <td>3360.010000</td>\n",
       "      <td>-0.356166</td>\n",
       "      <td>0.355056</td>\n",
       "    </tr>\n",
       "    <tr>\n",
       "      <th>...</th>\n",
       "      <td>...</td>\n",
       "      <td>...</td>\n",
       "      <td>...</td>\n",
       "      <td>...</td>\n",
       "      <td>...</td>\n",
       "      <td>...</td>\n",
       "      <td>...</td>\n",
       "    </tr>\n",
       "    <tr>\n",
       "      <th>2018-01-23</th>\n",
       "      <td>2839.130362</td>\n",
       "      <td>13559.60</td>\n",
       "      <td>7731.827774</td>\n",
       "      <td>24124.15</td>\n",
       "      <td>7731.827774</td>\n",
       "      <td>0.212382</td>\n",
       "      <td>0.192145</td>\n",
       "    </tr>\n",
       "    <tr>\n",
       "      <th>2018-01-24</th>\n",
       "      <td>2837.544008</td>\n",
       "      <td>13414.74</td>\n",
       "      <td>7643.428966</td>\n",
       "      <td>23940.78</td>\n",
       "      <td>7643.428966</td>\n",
       "      <td>-1.143311</td>\n",
       "      <td>-1.156419</td>\n",
       "    </tr>\n",
       "    <tr>\n",
       "      <th>2018-01-25</th>\n",
       "      <td>2839.253031</td>\n",
       "      <td>13298.36</td>\n",
       "      <td>7615.839954</td>\n",
       "      <td>23669.49</td>\n",
       "      <td>7615.839954</td>\n",
       "      <td>-0.360951</td>\n",
       "      <td>-0.397494</td>\n",
       "    </tr>\n",
       "    <tr>\n",
       "      <th>2018-01-26</th>\n",
       "      <td>2872.867839</td>\n",
       "      <td>13340.17</td>\n",
       "      <td>7665.541292</td>\n",
       "      <td>23631.88</td>\n",
       "      <td>7665.541292</td>\n",
       "      <td>0.652605</td>\n",
       "      <td>0.629757</td>\n",
       "    </tr>\n",
       "    <tr>\n",
       "      <th>2018-01-29</th>\n",
       "      <td>2853.528411</td>\n",
       "      <td>13324.48</td>\n",
       "      <td>7671.533300</td>\n",
       "      <td>23629.34</td>\n",
       "      <td>7671.533300</td>\n",
       "      <td>0.078168</td>\n",
       "      <td>0.072880</td>\n",
       "    </tr>\n",
       "  </tbody>\n",
       "</table>\n",
       "<p>6277 rows × 7 columns</p>\n",
       "</div>"
      ],
      "text/plain": [
       "                    spx       dax         ftse    nikkei  market_value  \\\n",
       "date                                                                     \n",
       "1994-01-07   469.900000   2224.95  3445.980000  18124.01   3445.980000   \n",
       "1994-01-10   475.270000   2225.00  3440.580000  18443.44   3440.580000   \n",
       "1994-01-11   474.130000   2228.10  3413.770000  18485.25   3413.770000   \n",
       "1994-01-12   474.170000   2182.06  3372.020000  18793.88   3372.020000   \n",
       "1994-01-13   472.470000   2142.37  3360.010000  18577.26   3360.010000   \n",
       "...                 ...       ...          ...       ...           ...   \n",
       "2018-01-23  2839.130362  13559.60  7731.827774  24124.15   7731.827774   \n",
       "2018-01-24  2837.544008  13414.74  7643.428966  23940.78   7643.428966   \n",
       "2018-01-25  2839.253031  13298.36  7615.839954  23669.49   7615.839954   \n",
       "2018-01-26  2872.867839  13340.17  7665.541292  23631.88   7665.541292   \n",
       "2018-01-29  2853.528411  13324.48  7671.533300  23629.34   7671.533300   \n",
       "\n",
       "            returns_FTSE  result_ar_1_i_ma_1  \n",
       "date                                          \n",
       "1994-01-07           NaN                 NaN  \n",
       "1994-01-10     -0.156704                 NaN  \n",
       "1994-01-11     -0.779229           -0.622524  \n",
       "1994-01-12     -1.222988           -0.760443  \n",
       "1994-01-13     -0.356166            0.355056  \n",
       "...                  ...                 ...  \n",
       "2018-01-23      0.212382            0.192145  \n",
       "2018-01-24     -1.143311           -1.156419  \n",
       "2018-01-25     -0.360951           -0.397494  \n",
       "2018-01-26      0.652605            0.629757  \n",
       "2018-01-29      0.078168            0.072880  \n",
       "\n",
       "[6277 rows x 7 columns]"
      ]
     },
     "execution_count": 14,
     "metadata": {},
     "output_type": "execute_result"
    }
   ],
   "source": [
    "df_comp"
   ]
  },
  {
   "cell_type": "code",
   "execution_count": 17,
   "metadata": {},
   "outputs": [
    {
     "name": "stderr",
     "output_type": "stream",
     "text": [
      "C:\\ana\\envs\\effyis2\\lib\\site-packages\\statsmodels\\base\\model.py:548: HessianInversionWarning: Inverting hessian failed, no bse or cov_params available\n",
      "  'available', HessianInversionWarning)\n",
      "C:\\ana\\envs\\effyis2\\lib\\site-packages\\statsmodels\\base\\model.py:548: HessianInversionWarning: Inverting hessian failed, no bse or cov_params available\n",
      "  'available', HessianInversionWarning)\n",
      "C:\\ana\\envs\\effyis2\\lib\\site-packages\\statsmodels\\base\\model.py:548: HessianInversionWarning: Inverting hessian failed, no bse or cov_params available\n",
      "  'available', HessianInversionWarning)\n"
     ]
    }
   ],
   "source": [
    "#Higher ARIMA Lag Models\n",
    "model_ar_1_i_ma_2=ARIMA(df_comp.returns_FTSE[1:],order=(1,1,2))\n",
    "result_ar_1_i_ma_2=model_ar_1_i_ma_2.fit(start_ar_lags=5)\n",
    "model_ar_1_i_ma_3=ARIMA(df_comp.returns_FTSE[1:],order=(1,1,3))\n",
    "result_ar_1_i_ma_3=model_ar_1_i_ma_3.fit(start_ar_lags=5)\n",
    "model_ar_2_i_ma_1=ARIMA(df_comp.returns_FTSE[1:],order=(2,1,1))\n",
    "result_ar_2_i_ma_1=model_ar_2_i_ma_1.fit()\n",
    "model_ar_3_i_ma_1=ARIMA(df_comp.returns_FTSE[1:],order=(3,1,1))\n",
    "result_ar_3_i_ma_1=model_ar_3_i_ma_1.fit()\n",
    "model_ar_3_i_ma_2=ARIMA(df_comp.returns_FTSE[1:],order=(3,1,2))\n",
    "result_ar_3_i_ma_2=model_ar_3_i_ma_2.fit(start_ar_lags=5)"
   ]
  },
  {
   "cell_type": "code",
   "execution_count": 18,
   "metadata": {},
   "outputs": [
    {
     "name": "stdout",
     "output_type": "stream",
     "text": [
      "ARIMA(1,1,2)= \t LL= -9600.440907965234  \t AIC= 19210.88181593047\n",
      "ARIMA(1,1,3)= \t LL= -9600.06484135304  \t AIC= 19212.12968270608\n",
      "ARIMA(2,1,1)= \t LL= -9593.716247950248  \t AIC= 19197.432495900495\n",
      "ARIMA(3,1,1)= \t LL= -9579.613709243677  \t AIC= 19171.227418487353\n",
      "ARIMA(3,1,2)= \t LL= -9582.048901851136  \t AIC= 19178.097803702272\n"
     ]
    }
   ],
   "source": [
    "print(\"ARIMA(1,1,2)= \\t LL=\",result_ar_1_i_ma_2.llf,\" \\t AIC=\",result_ar_1_i_ma_2.aic)\n",
    "print(\"ARIMA(1,1,3)= \\t LL=\",result_ar_1_i_ma_3.llf,\" \\t AIC=\",result_ar_1_i_ma_3.aic)\n",
    "print(\"ARIMA(2,1,1)= \\t LL=\",result_ar_2_i_ma_1.llf,\" \\t AIC=\",result_ar_2_i_ma_1.aic)\n",
    "print(\"ARIMA(3,1,1)= \\t LL=\",result_ar_3_i_ma_1.llf,\" \\t AIC=\",result_ar_3_i_ma_1.aic)\n",
    "print(\"ARIMA(3,1,2)= \\t LL=\",result_ar_3_i_ma_2.llf,\" \\t AIC=\",result_ar_3_i_ma_2.aic)"
   ]
  },
  {
   "cell_type": "code",
   "execution_count": 31,
   "metadata": {},
   "outputs": [],
   "source": [
    "def LLR(mod1,mod2,DF=1):\n",
    "    l1=mod1.fit().llf\n",
    "    l2=mod2.fit().llf\n",
    "    LR=(2*(l2-l1))\n",
    "    p=chi2.sf(LR,DF).round(3)\n",
    "    return p"
   ]
  },
  {
   "cell_type": "code",
   "execution_count": null,
   "metadata": {},
   "outputs": [],
   "source": [
    "lr="
   ]
  },
  {
   "cell_type": "code",
   "execution_count": 24,
   "metadata": {},
   "outputs": [
    {
     "name": "stderr",
     "output_type": "stream",
     "text": [
      "C:\\ana\\envs\\effyis2\\lib\\site-packages\\statsmodels\\base\\model.py:548: HessianInversionWarning: Inverting hessian failed, no bse or cov_params available\n",
      "  'available', HessianInversionWarning)\n"
     ]
    },
    {
     "name": "stdout",
     "output_type": "stream",
     "text": [
      "\n",
      "LLR test p-value 0.386\n"
     ]
    },
    {
     "name": "stderr",
     "output_type": "stream",
     "text": [
      "C:\\ana\\envs\\effyis2\\lib\\site-packages\\statsmodels\\base\\model.py:548: HessianInversionWarning: Inverting hessian failed, no bse or cov_params available\n",
      "  'available', HessianInversionWarning)\n"
     ]
    }
   ],
   "source": [
    "print(\"\\nLLR test p-value\",str(LLR(model_ar_1_i_ma_2,model_ar_1_i_ma_3)))"
   ]
  },
  {
   "cell_type": "code",
   "execution_count": 25,
   "metadata": {},
   "outputs": [
    {
     "name": "stdout",
     "output_type": "stream",
     "text": [
      "\n",
      "LLR test p-value 0.263\n"
     ]
    },
    {
     "name": "stderr",
     "output_type": "stream",
     "text": [
      "C:\\ana\\envs\\effyis2\\lib\\site-packages\\statsmodels\\base\\model.py:548: HessianInversionWarning: Inverting hessian failed, no bse or cov_params available\n",
      "  'available', HessianInversionWarning)\n"
     ]
    }
   ],
   "source": [
    "print(\"\\nLLR test p-value\",str(LLR(model_ar_1_i_ma_1,model_ar_1_i_ma_2)))"
   ]
  },
  {
   "cell_type": "code",
   "execution_count": 27,
   "metadata": {},
   "outputs": [
    {
     "name": "stdout",
     "output_type": "stream",
     "text": [
      "\n",
      "LLR test p-value 0.367\n"
     ]
    },
    {
     "name": "stderr",
     "output_type": "stream",
     "text": [
      "C:\\ana\\envs\\effyis2\\lib\\site-packages\\statsmodels\\base\\model.py:548: HessianInversionWarning: Inverting hessian failed, no bse or cov_params available\n",
      "  'available', HessianInversionWarning)\n"
     ]
    }
   ],
   "source": [
    "print(\"\\nLLR test p-value\",str(LLR(model_ar_1_i_ma_1,model_ar_1_i_ma_3,DF=2)))"
   ]
  },
  {
   "cell_type": "code",
   "execution_count": 28,
   "metadata": {},
   "outputs": [
    {
     "data": {
      "image/png": "[encoded data removed]",
      "text/plain": [
       "<Figure size 432x288 with 1 Axes>"
      ]
     },
     "metadata": {
      "needs_background": "light"
     },
     "output_type": "display_data"
    }
   ],
   "source": [
    "#residuals of the arima(1,1,1)\n",
    "df_comp['result_ar_3_i_ma_1']=result_ar_3_i_ma_1.resid.iloc[:]\n",
    "sgt.plot_acf(df_comp.result_ar_3_i_ma_1[2:],lags=25,zero=False)\n",
    "plt.title('ACF of 3_1_1', size=20)\n",
    "plt.show()"
   ]
  },
  {
   "cell_type": "code",
   "execution_count": 29,
   "metadata": {},
   "outputs": [
    {
     "name": "stderr",
     "output_type": "stream",
     "text": [
      "C:\\ana\\envs\\effyis2\\lib\\site-packages\\statsmodels\\base\\model.py:548: HessianInversionWarning: Inverting hessian failed, no bse or cov_params available\n",
      "  'available', HessianInversionWarning)\n"
     ]
    }
   ],
   "source": [
    "model_ar_5_i_ma_1=ARIMA(df_comp.returns_FTSE[1:],order=(5,1,1))\n",
    "result_ar_5_i_ma_1=model_ar_5_i_ma_1.fit()\n",
    "model_ar_6_i_ma_3=ARIMA(df_comp.returns_FTSE[1:],order=(6,1,3))\n",
    "result_ar_6_i_ma_3=model_ar_6_i_ma_3.fit()"
   ]
  },
  {
   "cell_type": "code",
   "execution_count": 30,
   "metadata": {},
   "outputs": [
    {
     "name": "stdout",
     "output_type": "stream",
     "text": [
      "ARIMA(5,1,1)= \t LL= -9566.853697804778  \t AIC= 19149.707395609556\n",
      "ARIMA(6,1,3)= \t LL= -9569.456771892244  \t AIC= 19160.91354378449\n",
      "ARIMA(3,1,1)= \t LL= -9579.613709243677  \t AIC= 19171.227418487353\n"
     ]
    }
   ],
   "source": [
    "print(\"ARIMA(5,1,1)= \\t LL=\",result_ar_5_i_ma_1.llf,\" \\t AIC=\",result_ar_5_i_ma_1.aic)\n",
    "print(\"ARIMA(6,1,3)= \\t LL=\",result_ar_6_i_ma_3.llf,\" \\t AIC=\",result_ar_6_i_ma_3.aic)\n",
    "print(\"ARIMA(3,1,1)= \\t LL=\",result_ar_3_i_ma_1.llf,\" \\t AIC=\",result_ar_3_i_ma_1.aic)"
   ]
  },
  {
   "cell_type": "code",
   "execution_count": 35,
   "metadata": {},
   "outputs": [
    {
     "name": "stdout",
     "output_type": "stream",
     "text": [
      "\n",
      "LLR test p-value 1.0\n"
     ]
    },
    {
     "name": "stderr",
     "output_type": "stream",
     "text": [
      "C:\\ana\\envs\\effyis2\\lib\\site-packages\\statsmodels\\base\\model.py:548: HessianInversionWarning: Inverting hessian failed, no bse or cov_params available\n",
      "  'available', HessianInversionWarning)\n"
     ]
    }
   ],
   "source": [
    " print(\"\\nLLR test p-value\",str(LLR(model_ar_5_i_ma_1,model_ar_6_i_ma_3,DF=3)))"
   ]
  },
  {
   "cell_type": "code",
   "execution_count": 34,
   "metadata": {},
   "outputs": [
    {
     "name": "stdout",
     "output_type": "stream",
     "text": [
      "\n",
      "LLR test p-value 0.001\n"
     ]
    },
    {
     "name": "stderr",
     "output_type": "stream",
     "text": [
      "C:\\ana\\envs\\effyis2\\lib\\site-packages\\statsmodels\\base\\model.py:548: HessianInversionWarning: Inverting hessian failed, no bse or cov_params available\n",
      "  'available', HessianInversionWarning)\n"
     ]
    }
   ],
   "source": [
    " print(\"\\nLLR test p-value\",str(LLR(model_ar_3_i_ma_1,model_ar_6_i_ma_3,DF=5)))"
   ]
  },
  {
   "cell_type": "code",
   "execution_count": 37,
   "metadata": {},
   "outputs": [
    {
     "data": {
      "image/png": "[encoded data removed]",
      "text/plain": [
       "<Figure size 432x288 with 1 Axes>"
      ]
     },
     "metadata": {
      "needs_background": "light"
     },
     "output_type": "display_data"
    }
   ],
   "source": [
    "df_comp['result_ar_5_i_ma_1']=result_ar_5_i_ma_1.resid\n",
    "sgt.plot_acf(df_comp.result_ar_5_i_ma_1[2:],lags=25,zero=False)\n",
    "plt.title('ACF of 5_1_1', size=20)\n",
    "plt.show()"
   ]
  },
  {
   "cell_type": "code",
   "execution_count": 38,
   "metadata": {},
   "outputs": [],
   "source": [
    "#Models of Higher level of Integration\n",
    "df_comp['delta_prices']=df_comp.market_value.diff(1)"
   ]
  },
  {
   "cell_type": "code",
   "execution_count": 40,
   "metadata": {},
   "outputs": [
    {
     "data": {
      "text/plain": [
       "(-35.6235682518031,\n",
       " 0.0,\n",
       " 5,\n",
       " 6270,\n",
       " {'1%': -3.4313933778649943,\n",
       "  '5%': -2.862001080749219,\n",
       "  '10%': -2.567015430304048},\n",
       " 68467.67159603653)"
      ]
     },
     "execution_count": 40,
     "metadata": {},
     "output_type": "execute_result"
    }
   ],
   "source": [
    "sts.adfuller(df_comp.delta_prices[1:])"
   ]
  },
  {
   "cell_type": "code",
   "execution_count": 41,
   "metadata": {},
   "outputs": [
    {
     "data": {
      "text/html": [
       "<div>\n",
       "<style scoped>\n",
       "    .dataframe tbody tr th:only-of-type {\n",
       "        vertical-align: middle;\n",
       "    }\n",
       "\n",
       "    .dataframe tbody tr th {\n",
       "        vertical-align: top;\n",
       "    }\n",
       "\n",
       "    .dataframe thead th {\n",
       "        text-align: right;\n",
       "    }\n",
       "</style>\n",
       "<table border=\"1\" class=\"dataframe\">\n",
       "  <thead>\n",
       "    <tr style=\"text-align: right;\">\n",
       "      <th></th>\n",
       "      <th>spx</th>\n",
       "      <th>dax</th>\n",
       "      <th>ftse</th>\n",
       "      <th>nikkei</th>\n",
       "      <th>market_value</th>\n",
       "      <th>returns_FTSE</th>\n",
       "      <th>result_ar_1_i_ma_1</th>\n",
       "      <th>result_ar_3_i_ma_1</th>\n",
       "      <th>result_ar_5_i_ma_1</th>\n",
       "      <th>delta_prices</th>\n",
       "    </tr>\n",
       "    <tr>\n",
       "      <th>date</th>\n",
       "      <th></th>\n",
       "      <th></th>\n",
       "      <th></th>\n",
       "      <th></th>\n",
       "      <th></th>\n",
       "      <th></th>\n",
       "      <th></th>\n",
       "      <th></th>\n",
       "      <th></th>\n",
       "      <th></th>\n",
       "    </tr>\n",
       "  </thead>\n",
       "  <tbody>\n",
       "    <tr>\n",
       "      <th>1994-01-07</th>\n",
       "      <td>469.900000</td>\n",
       "      <td>2224.95</td>\n",
       "      <td>3445.980000</td>\n",
       "      <td>18124.01</td>\n",
       "      <td>3445.980000</td>\n",
       "      <td>NaN</td>\n",
       "      <td>NaN</td>\n",
       "      <td>NaN</td>\n",
       "      <td>NaN</td>\n",
       "      <td>NaN</td>\n",
       "    </tr>\n",
       "    <tr>\n",
       "      <th>1994-01-10</th>\n",
       "      <td>475.270000</td>\n",
       "      <td>2225.00</td>\n",
       "      <td>3440.580000</td>\n",
       "      <td>18443.44</td>\n",
       "      <td>3440.580000</td>\n",
       "      <td>-0.156704</td>\n",
       "      <td>NaN</td>\n",
       "      <td>NaN</td>\n",
       "      <td>NaN</td>\n",
       "      <td>-5.400000</td>\n",
       "    </tr>\n",
       "    <tr>\n",
       "      <th>1994-01-11</th>\n",
       "      <td>474.130000</td>\n",
       "      <td>2228.10</td>\n",
       "      <td>3413.770000</td>\n",
       "      <td>18485.25</td>\n",
       "      <td>3413.770000</td>\n",
       "      <td>-0.779229</td>\n",
       "      <td>-0.622524</td>\n",
       "      <td>-0.622524</td>\n",
       "      <td>-0.622524</td>\n",
       "      <td>-26.810000</td>\n",
       "    </tr>\n",
       "    <tr>\n",
       "      <th>1994-01-12</th>\n",
       "      <td>474.170000</td>\n",
       "      <td>2182.06</td>\n",
       "      <td>3372.020000</td>\n",
       "      <td>18793.88</td>\n",
       "      <td>3372.020000</td>\n",
       "      <td>-1.222988</td>\n",
       "      <td>-0.760443</td>\n",
       "      <td>-0.748706</td>\n",
       "      <td>-0.745592</td>\n",
       "      <td>-41.750000</td>\n",
       "    </tr>\n",
       "    <tr>\n",
       "      <th>1994-01-13</th>\n",
       "      <td>472.470000</td>\n",
       "      <td>2142.37</td>\n",
       "      <td>3360.010000</td>\n",
       "      <td>18577.26</td>\n",
       "      <td>3360.010000</td>\n",
       "      <td>-0.356166</td>\n",
       "      <td>0.355056</td>\n",
       "      <td>0.384598</td>\n",
       "      <td>0.386600</td>\n",
       "      <td>-12.010000</td>\n",
       "    </tr>\n",
       "    <tr>\n",
       "      <th>...</th>\n",
       "      <td>...</td>\n",
       "      <td>...</td>\n",
       "      <td>...</td>\n",
       "      <td>...</td>\n",
       "      <td>...</td>\n",
       "      <td>...</td>\n",
       "      <td>...</td>\n",
       "      <td>...</td>\n",
       "      <td>...</td>\n",
       "      <td>...</td>\n",
       "    </tr>\n",
       "    <tr>\n",
       "      <th>2018-01-23</th>\n",
       "      <td>2839.130362</td>\n",
       "      <td>13559.60</td>\n",
       "      <td>7731.827774</td>\n",
       "      <td>24124.15</td>\n",
       "      <td>7731.827774</td>\n",
       "      <td>0.212382</td>\n",
       "      <td>0.192145</td>\n",
       "      <td>0.184762</td>\n",
       "      <td>0.183607</td>\n",
       "      <td>16.386240</td>\n",
       "    </tr>\n",
       "    <tr>\n",
       "      <th>2018-01-24</th>\n",
       "      <td>2837.544008</td>\n",
       "      <td>13414.74</td>\n",
       "      <td>7643.428966</td>\n",
       "      <td>23940.78</td>\n",
       "      <td>7643.428966</td>\n",
       "      <td>-1.143311</td>\n",
       "      <td>-1.156419</td>\n",
       "      <td>-1.140331</td>\n",
       "      <td>-1.161839</td>\n",
       "      <td>-88.398808</td>\n",
       "    </tr>\n",
       "    <tr>\n",
       "      <th>2018-01-25</th>\n",
       "      <td>2839.253031</td>\n",
       "      <td>13298.36</td>\n",
       "      <td>7615.839954</td>\n",
       "      <td>23669.49</td>\n",
       "      <td>7615.839954</td>\n",
       "      <td>-0.360951</td>\n",
       "      <td>-0.397494</td>\n",
       "      <td>-0.412168</td>\n",
       "      <td>-0.437673</td>\n",
       "      <td>-27.589012</td>\n",
       "    </tr>\n",
       "    <tr>\n",
       "      <th>2018-01-26</th>\n",
       "      <td>2872.867839</td>\n",
       "      <td>13340.17</td>\n",
       "      <td>7665.541292</td>\n",
       "      <td>23631.88</td>\n",
       "      <td>7665.541292</td>\n",
       "      <td>0.652605</td>\n",
       "      <td>0.629757</td>\n",
       "      <td>0.588256</td>\n",
       "      <td>0.605144</td>\n",
       "      <td>49.701338</td>\n",
       "    </tr>\n",
       "    <tr>\n",
       "      <th>2018-01-29</th>\n",
       "      <td>2853.528411</td>\n",
       "      <td>13324.48</td>\n",
       "      <td>7671.533300</td>\n",
       "      <td>23629.34</td>\n",
       "      <td>7671.533300</td>\n",
       "      <td>0.078168</td>\n",
       "      <td>0.072880</td>\n",
       "      <td>-0.015067</td>\n",
       "      <td>-0.049863</td>\n",
       "      <td>5.992008</td>\n",
       "    </tr>\n",
       "  </tbody>\n",
       "</table>\n",
       "<p>6277 rows × 10 columns</p>\n",
       "</div>"
      ],
      "text/plain": [
       "                    spx       dax         ftse    nikkei  market_value  \\\n",
       "date                                                                     \n",
       "1994-01-07   469.900000   2224.95  3445.980000  18124.01   3445.980000   \n",
       "1994-01-10   475.270000   2225.00  3440.580000  18443.44   3440.580000   \n",
       "1994-01-11   474.130000   2228.10  3413.770000  18485.25   3413.770000   \n",
       "1994-01-12   474.170000   2182.06  3372.020000  18793.88   3372.020000   \n",
       "1994-01-13   472.470000   2142.37  3360.010000  18577.26   3360.010000   \n",
       "...                 ...       ...          ...       ...           ...   \n",
       "2018-01-23  2839.130362  13559.60  7731.827774  24124.15   7731.827774   \n",
       "2018-01-24  2837.544008  13414.74  7643.428966  23940.78   7643.428966   \n",
       "2018-01-25  2839.253031  13298.36  7615.839954  23669.49   7615.839954   \n",
       "2018-01-26  2872.867839  13340.17  7665.541292  23631.88   7665.541292   \n",
       "2018-01-29  2853.528411  13324.48  7671.533300  23629.34   7671.533300   \n",
       "\n",
       "            returns_FTSE  result_ar_1_i_ma_1  result_ar_3_i_ma_1  \\\n",
       "date                                                               \n",
       "1994-01-07           NaN                 NaN                 NaN   \n",
       "1994-01-10     -0.156704                 NaN                 NaN   \n",
       "1994-01-11     -0.779229           -0.622524           -0.622524   \n",
       "1994-01-12     -1.222988           -0.760443           -0.748706   \n",
       "1994-01-13     -0.356166            0.355056            0.384598   \n",
       "...                  ...                 ...                 ...   \n",
       "2018-01-23      0.212382            0.192145            0.184762   \n",
       "2018-01-24     -1.143311           -1.156419           -1.140331   \n",
       "2018-01-25     -0.360951           -0.397494           -0.412168   \n",
       "2018-01-26      0.652605            0.629757            0.588256   \n",
       "2018-01-29      0.078168            0.072880           -0.015067   \n",
       "\n",
       "            result_ar_5_i_ma_1  delta_prices  \n",
       "date                                          \n",
       "1994-01-07                 NaN           NaN  \n",
       "1994-01-10                 NaN     -5.400000  \n",
       "1994-01-11           -0.622524    -26.810000  \n",
       "1994-01-12           -0.745592    -41.750000  \n",
       "1994-01-13            0.386600    -12.010000  \n",
       "...                        ...           ...  \n",
       "2018-01-23            0.183607     16.386240  \n",
       "2018-01-24           -1.161839    -88.398808  \n",
       "2018-01-25           -0.437673    -27.589012  \n",
       "2018-01-26            0.605144     49.701338  \n",
       "2018-01-29           -0.049863      5.992008  \n",
       "\n",
       "[6277 rows x 10 columns]"
      ]
     },
     "execution_count": 41,
     "metadata": {},
     "output_type": "execute_result"
    }
   ],
   "source": [
    "df_comp"
   ]
  },
  {
   "cell_type": "code",
   "execution_count": 43,
   "metadata": {},
   "outputs": [
    {
     "data": {
      "text/html": [
       "<table class=\"simpletable\">\n",
       "<caption>ARIMA Model Results</caption>\n",
       "<tr>\n",
       "  <th>Dep. Variable:</th>  <td>D.market_value</td>  <th>  No. Observations:  </th>    <td>6276</td>   \n",
       "</tr>\n",
       "<tr>\n",
       "  <th>Model:</th>          <td>ARIMA(1, 1, 1)</td>  <th>  Log Likelihood     </th> <td>-34417.384</td>\n",
       "</tr>\n",
       "<tr>\n",
       "  <th>Method:</th>             <td>css-mle</td>     <th>  S.D. of innovations</th>   <td>58.267</td>  \n",
       "</tr>\n",
       "<tr>\n",
       "  <th>Date:</th>          <td>Fri, 11 Sep 2020</td> <th>  AIC                </th>  <td>68844.768</td>\n",
       "</tr>\n",
       "<tr>\n",
       "  <th>Time:</th>              <td>01:48:21</td>     <th>  BIC                </th>  <td>68878.490</td>\n",
       "</tr>\n",
       "<tr>\n",
       "  <th>Sample:</th>           <td>01-10-1994</td>    <th>  HQIC               </th>  <td>68856.452</td>\n",
       "</tr>\n",
       "<tr>\n",
       "  <th></th>                 <td>- 01-29-2018</td>   <th>                     </th>      <td> </td>    \n",
       "</tr>\n",
       "</table>\n",
       "<table class=\"simpletable\">\n",
       "<tr>\n",
       "            <td></td>              <th>coef</th>     <th>std err</th>      <th>z</th>      <th>P>|z|</th>  <th>[0.025</th>    <th>0.975]</th>  \n",
       "</tr>\n",
       "<tr>\n",
       "  <th>const</th>                <td>   -0.4087</td> <td>    1.653</td> <td>   -0.247</td> <td> 0.805</td> <td>   -3.648</td> <td>    2.830</td>\n",
       "</tr>\n",
       "<tr>\n",
       "  <th>spx</th>                  <td>    0.0008</td> <td>    0.001</td> <td>    0.703</td> <td> 0.482</td> <td>   -0.002</td> <td>    0.003</td>\n",
       "</tr>\n",
       "<tr>\n",
       "  <th>ar.L1.D.market_value</th> <td>    0.8336</td> <td>    0.078</td> <td>   10.737</td> <td> 0.000</td> <td>    0.681</td> <td>    0.986</td>\n",
       "</tr>\n",
       "<tr>\n",
       "  <th>ma.L1.D.market_value</th> <td>   -0.8683</td> <td>    0.070</td> <td>  -12.401</td> <td> 0.000</td> <td>   -1.006</td> <td>   -0.731</td>\n",
       "</tr>\n",
       "</table>\n",
       "<table class=\"simpletable\">\n",
       "<caption>Roots</caption>\n",
       "<tr>\n",
       "    <td></td>   <th>            Real</th>  <th>         Imaginary</th> <th>         Modulus</th>  <th>        Frequency</th>\n",
       "</tr>\n",
       "<tr>\n",
       "  <th>AR.1</th> <td>           1.1996</td> <td>          +0.0000j</td> <td>           1.1996</td> <td>           0.0000</td>\n",
       "</tr>\n",
       "<tr>\n",
       "  <th>MA.1</th> <td>           1.1517</td> <td>          +0.0000j</td> <td>           1.1517</td> <td>           0.0000</td>\n",
       "</tr>\n",
       "</table>"
      ],
      "text/plain": [
       "<class 'statsmodels.iolib.summary.Summary'>\n",
       "\"\"\"\n",
       "                             ARIMA Model Results                              \n",
       "==============================================================================\n",
       "Dep. Variable:         D.market_value   No. Observations:                 6276\n",
       "Model:                 ARIMA(1, 1, 1)   Log Likelihood              -34417.384\n",
       "Method:                       css-mle   S.D. of innovations             58.267\n",
       "Date:                Fri, 11 Sep 2020   AIC                          68844.768\n",
       "Time:                        01:48:21   BIC                          68878.490\n",
       "Sample:                    01-10-1994   HQIC                         68856.452\n",
       "                         - 01-29-2018                                         \n",
       "========================================================================================\n",
       "                           coef    std err          z      P>|z|      [0.025      0.975]\n",
       "----------------------------------------------------------------------------------------\n",
       "const                   -0.4087      1.653     -0.247      0.805      -3.648       2.830\n",
       "spx                      0.0008      0.001      0.703      0.482      -0.002       0.003\n",
       "ar.L1.D.market_value     0.8336      0.078     10.737      0.000       0.681       0.986\n",
       "ma.L1.D.market_value    -0.8683      0.070    -12.401      0.000      -1.006      -0.731\n",
       "                                    Roots                                    \n",
       "=============================================================================\n",
       "                  Real          Imaginary           Modulus         Frequency\n",
       "-----------------------------------------------------------------------------\n",
       "AR.1            1.1996           +0.0000j            1.1996            0.0000\n",
       "MA.1            1.1517           +0.0000j            1.1517            0.0000\n",
       "-----------------------------------------------------------------------------\n",
       "\"\"\""
      ]
     },
     "execution_count": 43,
     "metadata": {},
     "output_type": "execute_result"
    }
   ],
   "source": [
    "#ARIMAX\n",
    "model_ar_1_i_ma_1_Xspx=ARIMA(df_comp.market_value,exog=df_comp.spx,order=(1,1,1))\n",
    "result_ar_1_i_ma_1_Xspx=model_ar_1_i_ma_1_Xspx.fit()\n",
    "result_ar_1_i_ma_1_Xspx.summary()"
   ]
  },
  {
   "cell_type": "code",
   "execution_count": 45,
   "metadata": {},
   "outputs": [
    {
     "name": "stderr",
     "output_type": "stream",
     "text": [
      "C:\\ana\\envs\\effyis2\\lib\\site-packages\\statsmodels\\tsa\\statespace\\sarimax.py:963: UserWarning: Non-stationary starting autoregressive parameters found. Using zeros as starting parameters.\n",
      "  warn('Non-stationary starting autoregressive parameters'\n",
      "C:\\ana\\envs\\effyis2\\lib\\site-packages\\statsmodels\\tsa\\statespace\\sarimax.py:994: UserWarning: Non-stationary starting seasonal autoregressive Using zeros as starting parameters.\n",
      "  warn('Non-stationary starting seasonal autoregressive'\n"
     ]
    },
    {
     "data": {
      "text/html": [
       "<table class=\"simpletable\">\n",
       "<caption>SARIMAX Results</caption>\n",
       "<tr>\n",
       "  <th>Dep. Variable:</th>           <td>market_value</td>          <th>  No. Observations:  </th>    <td>6277</td>   \n",
       "</tr>\n",
       "<tr>\n",
       "  <th>Model:</th>           <td>SARIMAX(1, 0, 1)x(2, 0, 1, 5)</td> <th>  Log Likelihood     </th> <td>-33290.268</td>\n",
       "</tr>\n",
       "<tr>\n",
       "  <th>Date:</th>                  <td>Fri, 11 Sep 2020</td>        <th>  AIC                </th>  <td>66594.536</td>\n",
       "</tr>\n",
       "<tr>\n",
       "  <th>Time:</th>                      <td>02:29:00</td>            <th>  BIC                </th>  <td>66641.749</td>\n",
       "</tr>\n",
       "<tr>\n",
       "  <th>Sample:</th>                   <td>01-07-1994</td>           <th>  HQIC               </th>  <td>66610.895</td>\n",
       "</tr>\n",
       "<tr>\n",
       "  <th></th>                         <td>- 01-29-2018</td>          <th>                     </th>      <td> </td>    \n",
       "</tr>\n",
       "<tr>\n",
       "  <th>Covariance Type:</th>              <td>opg</td>              <th>                     </th>      <td> </td>    \n",
       "</tr>\n",
       "</table>\n",
       "<table class=\"simpletable\">\n",
       "<tr>\n",
       "      <td></td>        <th>coef</th>     <th>std err</th>      <th>z</th>      <th>P>|z|</th>  <th>[0.025</th>    <th>0.975]</th>  \n",
       "</tr>\n",
       "<tr>\n",
       "  <th>spx</th>      <td>    2.5752</td> <td>    0.031</td> <td>   83.360</td> <td> 0.000</td> <td>    2.515</td> <td>    2.636</td>\n",
       "</tr>\n",
       "<tr>\n",
       "  <th>ar.L1</th>    <td>    0.9999</td> <td>    0.000</td> <td> 2462.830</td> <td> 0.000</td> <td>    0.999</td> <td>    1.001</td>\n",
       "</tr>\n",
       "<tr>\n",
       "  <th>ma.L1</th>    <td>   -0.2816</td> <td>    0.008</td> <td>  -34.121</td> <td> 0.000</td> <td>   -0.298</td> <td>   -0.265</td>\n",
       "</tr>\n",
       "<tr>\n",
       "  <th>ar.S.L5</th>  <td>    0.9694</td> <td>    0.005</td> <td>  187.647</td> <td> 0.000</td> <td>    0.959</td> <td>    0.980</td>\n",
       "</tr>\n",
       "<tr>\n",
       "  <th>ar.S.L10</th> <td>    0.0305</td> <td>    0.003</td> <td>   10.224</td> <td> 0.000</td> <td>    0.025</td> <td>    0.036</td>\n",
       "</tr>\n",
       "<tr>\n",
       "  <th>ma.S.L5</th>  <td>   -0.9998</td> <td>    0.008</td> <td> -127.856</td> <td> 0.000</td> <td>   -1.015</td> <td>   -0.984</td>\n",
       "</tr>\n",
       "<tr>\n",
       "  <th>sigma2</th>   <td> 2362.1895</td> <td>   28.023</td> <td>   84.296</td> <td> 0.000</td> <td> 2307.266</td> <td> 2417.113</td>\n",
       "</tr>\n",
       "</table>\n",
       "<table class=\"simpletable\">\n",
       "<tr>\n",
       "  <th>Ljung-Box (Q):</th>          <td>92.57</td> <th>  Jarque-Bera (JB):  </th> <td>4504.29</td>\n",
       "</tr>\n",
       "<tr>\n",
       "  <th>Prob(Q):</th>                <td>0.00</td>  <th>  Prob(JB):          </th>  <td>0.00</td>  \n",
       "</tr>\n",
       "<tr>\n",
       "  <th>Heteroskedasticity (H):</th> <td>0.76</td>  <th>  Skew:              </th>  <td>-0.41</td> \n",
       "</tr>\n",
       "<tr>\n",
       "  <th>Prob(H) (two-sided):</th>    <td>0.00</td>  <th>  Kurtosis:          </th>  <td>7.07</td>  \n",
       "</tr>\n",
       "</table><br/><br/>Warnings:<br/>[1] Covariance matrix calculated using the outer product of gradients (complex-step)."
      ],
      "text/plain": [
       "<class 'statsmodels.iolib.summary.Summary'>\n",
       "\"\"\"\n",
       "                                     SARIMAX Results                                     \n",
       "=========================================================================================\n",
       "Dep. Variable:                      market_value   No. Observations:                 6277\n",
       "Model:             SARIMAX(1, 0, 1)x(2, 0, 1, 5)   Log Likelihood              -33290.268\n",
       "Date:                           Fri, 11 Sep 2020   AIC                          66594.536\n",
       "Time:                                   02:29:00   BIC                          66641.749\n",
       "Sample:                               01-07-1994   HQIC                         66610.895\n",
       "                                    - 01-29-2018                                         \n",
       "Covariance Type:                             opg                                         \n",
       "==============================================================================\n",
       "                 coef    std err          z      P>|z|      [0.025      0.975]\n",
       "------------------------------------------------------------------------------\n",
       "spx            2.5752      0.031     83.360      0.000       2.515       2.636\n",
       "ar.L1          0.9999      0.000   2462.830      0.000       0.999       1.001\n",
       "ma.L1         -0.2816      0.008    -34.121      0.000      -0.298      -0.265\n",
       "ar.S.L5        0.9694      0.005    187.647      0.000       0.959       0.980\n",
       "ar.S.L10       0.0305      0.003     10.224      0.000       0.025       0.036\n",
       "ma.S.L5       -0.9998      0.008   -127.856      0.000      -1.015      -0.984\n",
       "sigma2      2362.1895     28.023     84.296      0.000    2307.266    2417.113\n",
       "===================================================================================\n",
       "Ljung-Box (Q):                       92.57   Jarque-Bera (JB):              4504.29\n",
       "Prob(Q):                              0.00   Prob(JB):                         0.00\n",
       "Heteroskedasticity (H):               0.76   Skew:                            -0.41\n",
       "Prob(H) (two-sided):                  0.00   Kurtosis:                         7.07\n",
       "===================================================================================\n",
       "\n",
       "Warnings:\n",
       "[1] Covariance matrix calculated using the outer product of gradients (complex-step).\n",
       "\"\"\""
      ]
     },
     "execution_count": 45,
     "metadata": {},
     "output_type": "execute_result"
    }
   ],
   "source": [
    "#SARIMAX\n",
    "from  statsmodels.tsa.statespace.sarimax import SARIMAX\n",
    "model_sarimax=SARIMAX(df_comp.market_value,exog=df_comp.spx,order=(1,0,1),seasonal_order=(2,0,1,5))\n",
    "result_sarimax=model_sarimax.fit()\n",
    "result_sarimax.summary()"
   ]
  },
  {
   "cell_type": "code",
   "execution_count": null,
   "metadata": {},
   "outputs": [],
   "source": []
  }
 ],
 "metadata": {
  "kernelspec": {
   "display_name": "Python 3",
   "language": "python",
   "name": "python3"
  },
  "language_info": {
   "codemirror_mode": {
    "name": "ipython",
    "version": 3
   },
   "file_extension": ".py",
   "mimetype": "text/x-python",
   "name": "python",
   "nbconvert_exporter": "python",
   "pygments_lexer": "ipython3",
   "version": "3.6.10"
  }
 },
 "nbformat": 4,
 "nbformat_minor": 4
}
